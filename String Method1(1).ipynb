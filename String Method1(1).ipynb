{
 "cells": [
  {
   "cell_type": "markdown",
   "id": "29ddd864",
   "metadata": {},
   "source": [
    "# STRING METHODS"
   ]
  },
  {
   "cell_type": "code",
   "execution_count": 48,
   "id": "c82980a9",
   "metadata": {},
   "outputs": [
    {
     "data": {
      "text/plain": [
       "'Welcome'"
      ]
     },
     "execution_count": 48,
     "metadata": {},
     "output_type": "execute_result"
    }
   ],
   "source": [
    "#string()\n",
    "str1 = \"Welcome\"\n",
    "str1"
   ]
  },
  {
   "cell_type": "code",
   "execution_count": 2,
   "id": "5bdf48c6",
   "metadata": {},
   "outputs": [
    {
     "data": {
      "text/plain": [
       "str"
      ]
     },
     "execution_count": 2,
     "metadata": {},
     "output_type": "execute_result"
    }
   ],
   "source": [
    "type(str1)"
   ]
  },
  {
   "cell_type": "code",
   "execution_count": 3,
   "id": "0e506e04",
   "metadata": {},
   "outputs": [
    {
     "data": {
      "text/plain": [
       "'Hello Dhanashri'"
      ]
     },
     "execution_count": 3,
     "metadata": {},
     "output_type": "execute_result"
    }
   ],
   "source": [
    "#slicing()\n",
    "string = \"Hello Dhanashri\"\n",
    "string[:]"
   ]
  },
  {
   "cell_type": "code",
   "execution_count": 7,
   "id": "ddd0b624",
   "metadata": {},
   "outputs": [
    {
     "data": {
      "text/plain": [
       "'Hello'"
      ]
     },
     "execution_count": 7,
     "metadata": {},
     "output_type": "execute_result"
    }
   ],
   "source": [
    "string[0:5]"
   ]
  },
  {
   "cell_type": "code",
   "execution_count": 8,
   "id": "8225b0bc",
   "metadata": {},
   "outputs": [
    {
     "data": {
      "text/plain": [
       "'Good morning'"
      ]
     },
     "execution_count": 8,
     "metadata": {},
     "output_type": "execute_result"
    }
   ],
   "source": [
    "#Capitalize()\n",
    "str = \"good morning\"\n",
    "str.capitalize()"
   ]
  },
  {
   "cell_type": "code",
   "execution_count": 9,
   "id": "e26aa8cc",
   "metadata": {},
   "outputs": [
    {
     "data": {
      "text/plain": [
       "3"
      ]
     },
     "execution_count": 9,
     "metadata": {},
     "output_type": "execute_result"
    }
   ],
   "source": [
    "#Count()\n",
    "str.count('o')"
   ]
  },
  {
   "cell_type": "code",
   "execution_count": 10,
   "id": "320a0502",
   "metadata": {},
   "outputs": [
    {
     "data": {
      "text/plain": [
       "True"
      ]
     },
     "execution_count": 10,
     "metadata": {},
     "output_type": "execute_result"
    }
   ],
   "source": [
    "#startswith()\n",
    "str.startswith('go')"
   ]
  },
  {
   "cell_type": "code",
   "execution_count": 11,
   "id": "7cc42928",
   "metadata": {},
   "outputs": [
    {
     "data": {
      "text/plain": [
       "True"
      ]
     },
     "execution_count": 11,
     "metadata": {},
     "output_type": "execute_result"
    }
   ],
   "source": [
    "#endswith()\n",
    "str.endswith('ing')"
   ]
  },
  {
   "cell_type": "code",
   "execution_count": 12,
   "id": "e4cd18ec",
   "metadata": {},
   "outputs": [
    {
     "data": {
      "text/plain": [
       "5"
      ]
     },
     "execution_count": 12,
     "metadata": {},
     "output_type": "execute_result"
    }
   ],
   "source": [
    "str.find('m')"
   ]
  },
  {
   "cell_type": "code",
   "execution_count": 13,
   "id": "a0dfb266",
   "metadata": {},
   "outputs": [
    {
     "data": {
      "text/plain": [
       "False"
      ]
     },
     "execution_count": 13,
     "metadata": {},
     "output_type": "execute_result"
    }
   ],
   "source": [
    "#isalpha()\n",
    "str.isalpha()"
   ]
  },
  {
   "cell_type": "code",
   "execution_count": 14,
   "id": "0f1b443f",
   "metadata": {},
   "outputs": [
    {
     "data": {
      "text/plain": [
       "True"
      ]
     },
     "execution_count": 14,
     "metadata": {},
     "output_type": "execute_result"
    }
   ],
   "source": [
    "#islower()\n",
    "str.islower()"
   ]
  },
  {
   "cell_type": "code",
   "execution_count": 15,
   "id": "08e84fe6",
   "metadata": {},
   "outputs": [
    {
     "data": {
      "text/plain": [
       "False"
      ]
     },
     "execution_count": 15,
     "metadata": {},
     "output_type": "execute_result"
    }
   ],
   "source": [
    "#isnumeric()  \n",
    "str.isnumeric()"
   ]
  },
  {
   "cell_type": "code",
   "execution_count": 16,
   "id": "354f614e",
   "metadata": {},
   "outputs": [
    {
     "data": {
      "text/plain": [
       "False"
      ]
     },
     "execution_count": 16,
     "metadata": {},
     "output_type": "execute_result"
    }
   ],
   "source": [
    "#isupper()\n",
    "str.isupper()"
   ]
  },
  {
   "cell_type": "code",
   "execution_count": 18,
   "id": "6c0e6ce8",
   "metadata": {},
   "outputs": [
    {
     "data": {
      "text/plain": [
       "'Wel-come'"
      ]
     },
     "execution_count": 18,
     "metadata": {},
     "output_type": "execute_result"
    }
   ],
   "source": [
    "#join()\n",
    "x = \"-\";\n",
    "str = (\"Wel\", \"come\");\n",
    "x.join(str)"
   ]
  },
  {
   "cell_type": "code",
   "execution_count": 24,
   "id": "8aa6616c",
   "metadata": {},
   "outputs": [
    {
     "data": {
      "text/plain": [
       "15"
      ]
     },
     "execution_count": 24,
     "metadata": {},
     "output_type": "execute_result"
    }
   ],
   "source": [
    "#len()\n",
    "len(string)"
   ]
  },
  {
   "cell_type": "code",
   "execution_count": 25,
   "id": "fb56e779",
   "metadata": {},
   "outputs": [
    {
     "data": {
      "text/plain": [
       "'hello dhanashri'"
      ]
     },
     "execution_count": 25,
     "metadata": {},
     "output_type": "execute_result"
    }
   ],
   "source": [
    "#lower()\n",
    "string.lower()"
   ]
  },
  {
   "cell_type": "code",
   "execution_count": 39,
   "id": "dee54abd",
   "metadata": {},
   "outputs": [],
   "source": [
    "#lstrip() \n",
    "string= \"   Welcome to jupyter notebook!!!   \""
   ]
  },
  {
   "cell_type": "code",
   "execution_count": 32,
   "id": "3ea97665",
   "metadata": {},
   "outputs": [
    {
     "data": {
      "text/plain": [
       "'Weicome to jupyter notebook!!!   '"
      ]
     },
     "execution_count": 32,
     "metadata": {},
     "output_type": "execute_result"
    }
   ],
   "source": [
    "string.lstrip(\" \")"
   ]
  },
  {
   "cell_type": "code",
   "execution_count": 33,
   "id": "6ea77067",
   "metadata": {},
   "outputs": [
    {
     "data": {
      "text/plain": [
       "36"
      ]
     },
     "execution_count": 33,
     "metadata": {},
     "output_type": "execute_result"
    }
   ],
   "source": [
    "len(string)"
   ]
  },
  {
   "cell_type": "code",
   "execution_count": 34,
   "id": "d03fdd76",
   "metadata": {},
   "outputs": [],
   "source": [
    "#rstrip() \n",
    "str1 = \"-------this is string method...!!-----------------------\""
   ]
  },
  {
   "cell_type": "code",
   "execution_count": 35,
   "id": "c5997b66",
   "metadata": {},
   "outputs": [
    {
     "data": {
      "text/plain": [
       "'-------this is string method...!!'"
      ]
     },
     "execution_count": 35,
     "metadata": {},
     "output_type": "execute_result"
    }
   ],
   "source": [
    "str1.rstrip('-')"
   ]
  },
  {
   "cell_type": "code",
   "execution_count": 36,
   "id": "e25f945a",
   "metadata": {},
   "outputs": [
    {
     "data": {
      "text/plain": [
       "'-------this is string method...!!-----------------------'"
      ]
     },
     "execution_count": 36,
     "metadata": {},
     "output_type": "execute_result"
    }
   ],
   "source": [
    "str1"
   ]
  },
  {
   "cell_type": "code",
   "execution_count": 41,
   "id": "170516fe",
   "metadata": {},
   "outputs": [
    {
     "data": {
      "text/plain": [
       "'   Welcome to AIS!!!   '"
      ]
     },
     "execution_count": 41,
     "metadata": {},
     "output_type": "execute_result"
    }
   ],
   "source": [
    "#replace() \n",
    "string.replace('jupyter notebook','AIS')"
   ]
  },
  {
   "cell_type": "code",
   "execution_count": 46,
   "id": "99c5e7d3",
   "metadata": {},
   "outputs": [
    {
     "data": {
      "text/plain": [
       "'Welcome to Python!!!'"
      ]
     },
     "execution_count": 46,
     "metadata": {},
     "output_type": "execute_result"
    }
   ],
   "source": [
    "#split() \n",
    "str1 = \"Welcome to Python!!!\"\n",
    "str1"
   ]
  },
  {
   "cell_type": "code",
   "execution_count": 47,
   "id": "ab32c8fc",
   "metadata": {},
   "outputs": [
    {
     "data": {
      "text/plain": [
       "['Welcom', 'ython!!!']"
      ]
     },
     "execution_count": 47,
     "metadata": {},
     "output_type": "execute_result"
    }
   ],
   "source": [
    "str1.split(\"e to P\")"
   ]
  }
 ],
 "metadata": {
  "kernelspec": {
   "display_name": "Python 3 (ipykernel)",
   "language": "python",
   "name": "python3"
  },
  "language_info": {
   "codemirror_mode": {
    "name": "ipython",
    "version": 3
   },
   "file_extension": ".py",
   "mimetype": "text/x-python",
   "name": "python",
   "nbconvert_exporter": "python",
   "pygments_lexer": "ipython3",
   "version": "3.9.12"
  }
 },
 "nbformat": 4,
 "nbformat_minor": 5
}
